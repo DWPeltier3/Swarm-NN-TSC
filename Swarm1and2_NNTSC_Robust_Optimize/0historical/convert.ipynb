{
 "cells": [
  {
   "cell_type": "markdown",
   "metadata": {},
   "source": [
    "## MEANVAR:   CONVERT NPZ to MAT"
   ]
  },
  {
   "cell_type": "code",
   "execution_count": 1,
   "metadata": {},
   "outputs": [],
   "source": [
    "import scipy.io as sio\n",
    "import numpy as np\n",
    "file_name = \"mean_var_10v10_combined\"\n",
    "folder_name = \"/Users/DWPeltier3/Library/CloudStorage/OneDrive-NavalPostgraduateSchool/1Documents/Research/swarm/data/mean_var/\"\n",
    "full_path = folder_name+file_name\n",
    "# Load the .npz file\n",
    "data = np.load(full_path+\".npz\")\n",
    "# Extract mean and variance\n",
    "mean = data['mean']\n",
    "variance = data['variance']\n",
    "sio.savemat(full_path+\".mat\", {'mean': mean, 'variance': variance})"
   ]
  },
  {
   "cell_type": "markdown",
   "metadata": {},
   "source": [
    "## MODEL:  CONVERT KERAS to .PD (use matlab to convert to .mat)"
   ]
  },
  {
   "cell_type": "code",
   "execution_count": 3,
   "metadata": {},
   "outputs": [
    {
     "name": "stdout",
     "output_type": "stream",
     "text": [
      "INFO:tensorflow:Assets written to: /Users/DWPeltier3/Library/CloudStorage/OneDrive-NavalPostgraduateSchool/1Documents/0Research_Code/swarm/models/temp/CNmc20_10v1C10_perL/assets\n"
     ]
    },
    {
     "name": "stderr",
     "output_type": "stream",
     "text": [
      "INFO:tensorflow:Assets written to: /Users/DWPeltier3/Library/CloudStorage/OneDrive-NavalPostgraduateSchool/1Documents/0Research_Code/swarm/models/temp/CNmc20_10v1C10_perL/assets\n"
     ]
    }
   ],
   "source": [
    "import tensorflow as tf\n",
    "model_name = \"CNmc20_10v1C10_perL\" # CNNEXmc20comb10v10, CNNEXmcFULLcomb10v10, LSTMMmc20, CNNEXmc20comb10v10_r40k\n",
    "model_folder=\"/Users/DWPeltier3/Library/CloudStorage/OneDrive-NavalPostgraduateSchool/1Documents/0Research_Code/swarm/models/\"\n",
    "full_path = model_folder+model_name\n",
    "model = tf.keras.models.load_model(full_path+\".keras\")\n",
    "temp_model_folder = \"/Users/DWPeltier3/Library/CloudStorage/OneDrive-NavalPostgraduateSchool/1Documents/0Research_Code/swarm/models/temp/\"\n",
    "model.save(temp_model_folder+model_name)"
   ]
  }
 ],
 "metadata": {
  "kernelspec": {
   "display_name": "swarm2",
   "language": "python",
   "name": "python3"
  },
  "language_info": {
   "codemirror_mode": {
    "name": "ipython",
    "version": 3
   },
   "file_extension": ".py",
   "mimetype": "text/x-python",
   "name": "python",
   "nbconvert_exporter": "python",
   "pygments_lexer": "ipython3",
   "version": "3.11.3"
  }
 },
 "nbformat": 4,
 "nbformat_minor": 2
}
